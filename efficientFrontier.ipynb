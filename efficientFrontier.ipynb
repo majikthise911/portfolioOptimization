{
 "cells": [
  {
   "cell_type": "code",
   "execution_count": 1,
   "metadata": {},
   "outputs": [],
   "source": [
    "# Load Packages\n",
    "import numpy as np\n",
    "import pandas as pd\n",
    "from pandas_datareader import data\n",
    "import matplotlib.pyplot as plt\n",
    "%matplotlib inline"
   ]
  },
  {
   "cell_type": "code",
   "execution_count": 2,
   "metadata": {},
   "outputs": [
    {
     "data": {
      "text/html": [
       "<div>\n",
       "<style scoped>\n",
       "    .dataframe tbody tr th:only-of-type {\n",
       "        vertical-align: middle;\n",
       "    }\n",
       "\n",
       "    .dataframe tbody tr th {\n",
       "        vertical-align: top;\n",
       "    }\n",
       "\n",
       "    .dataframe thead tr th {\n",
       "        text-align: left;\n",
       "    }\n",
       "\n",
       "    .dataframe thead tr:last-of-type th {\n",
       "        text-align: right;\n",
       "    }\n",
       "</style>\n",
       "<table border=\"1\" class=\"dataframe\">\n",
       "  <thead>\n",
       "    <tr>\n",
       "      <th>Attributes</th>\n",
       "      <th colspan=\"2\" halign=\"left\">Adj Close</th>\n",
       "      <th colspan=\"2\" halign=\"left\">Close</th>\n",
       "      <th colspan=\"2\" halign=\"left\">High</th>\n",
       "      <th colspan=\"2\" halign=\"left\">Low</th>\n",
       "      <th colspan=\"2\" halign=\"left\">Open</th>\n",
       "      <th colspan=\"2\" halign=\"left\">Volume</th>\n",
       "    </tr>\n",
       "    <tr>\n",
       "      <th>Symbols</th>\n",
       "      <th>TSLA</th>\n",
       "      <th>AAPL</th>\n",
       "      <th>TSLA</th>\n",
       "      <th>AAPL</th>\n",
       "      <th>TSLA</th>\n",
       "      <th>AAPL</th>\n",
       "      <th>TSLA</th>\n",
       "      <th>AAPL</th>\n",
       "      <th>TSLA</th>\n",
       "      <th>AAPL</th>\n",
       "      <th>TSLA</th>\n",
       "      <th>AAPL</th>\n",
       "    </tr>\n",
       "    <tr>\n",
       "      <th>Date</th>\n",
       "      <th></th>\n",
       "      <th></th>\n",
       "      <th></th>\n",
       "      <th></th>\n",
       "      <th></th>\n",
       "      <th></th>\n",
       "      <th></th>\n",
       "      <th></th>\n",
       "      <th></th>\n",
       "      <th></th>\n",
       "      <th></th>\n",
       "      <th></th>\n",
       "    </tr>\n",
       "  </thead>\n",
       "  <tbody>\n",
       "    <tr>\n",
       "      <th>2018-01-02</th>\n",
       "      <td>21.368668</td>\n",
       "      <td>41.018429</td>\n",
       "      <td>21.368668</td>\n",
       "      <td>43.064999</td>\n",
       "      <td>21.474001</td>\n",
       "      <td>43.075001</td>\n",
       "      <td>20.733334</td>\n",
       "      <td>42.314999</td>\n",
       "      <td>20.799999</td>\n",
       "      <td>42.540001</td>\n",
       "      <td>65283000.0</td>\n",
       "      <td>102223600.0</td>\n",
       "    </tr>\n",
       "    <tr>\n",
       "      <th>2018-01-03</th>\n",
       "      <td>21.150000</td>\n",
       "      <td>41.011288</td>\n",
       "      <td>21.150000</td>\n",
       "      <td>43.057499</td>\n",
       "      <td>21.683332</td>\n",
       "      <td>43.637501</td>\n",
       "      <td>21.036667</td>\n",
       "      <td>42.990002</td>\n",
       "      <td>21.400000</td>\n",
       "      <td>43.132500</td>\n",
       "      <td>67822500.0</td>\n",
       "      <td>118071600.0</td>\n",
       "    </tr>\n",
       "    <tr>\n",
       "      <th>2018-01-04</th>\n",
       "      <td>20.974667</td>\n",
       "      <td>41.201771</td>\n",
       "      <td>20.974667</td>\n",
       "      <td>43.257500</td>\n",
       "      <td>21.236668</td>\n",
       "      <td>43.367500</td>\n",
       "      <td>20.378668</td>\n",
       "      <td>43.020000</td>\n",
       "      <td>20.858000</td>\n",
       "      <td>43.134998</td>\n",
       "      <td>149194500.0</td>\n",
       "      <td>89738400.0</td>\n",
       "    </tr>\n",
       "    <tr>\n",
       "      <th>2018-01-05</th>\n",
       "      <td>21.105333</td>\n",
       "      <td>41.670879</td>\n",
       "      <td>21.105333</td>\n",
       "      <td>43.750000</td>\n",
       "      <td>21.149332</td>\n",
       "      <td>43.842499</td>\n",
       "      <td>20.799999</td>\n",
       "      <td>43.262501</td>\n",
       "      <td>21.108000</td>\n",
       "      <td>43.360001</td>\n",
       "      <td>68868000.0</td>\n",
       "      <td>94640000.0</td>\n",
       "    </tr>\n",
       "    <tr>\n",
       "      <th>2018-01-08</th>\n",
       "      <td>22.427334</td>\n",
       "      <td>41.516106</td>\n",
       "      <td>22.427334</td>\n",
       "      <td>43.587502</td>\n",
       "      <td>22.468000</td>\n",
       "      <td>43.902500</td>\n",
       "      <td>21.033333</td>\n",
       "      <td>43.482498</td>\n",
       "      <td>21.066668</td>\n",
       "      <td>43.587502</td>\n",
       "      <td>147891000.0</td>\n",
       "      <td>82271200.0</td>\n",
       "    </tr>\n",
       "  </tbody>\n",
       "</table>\n",
       "</div>"
      ],
      "text/plain": [
       "Attributes  Adj Close                 Close                  High             \\\n",
       "Symbols          TSLA       AAPL       TSLA       AAPL       TSLA       AAPL   \n",
       "Date                                                                           \n",
       "2018-01-02  21.368668  41.018429  21.368668  43.064999  21.474001  43.075001   \n",
       "2018-01-03  21.150000  41.011288  21.150000  43.057499  21.683332  43.637501   \n",
       "2018-01-04  20.974667  41.201771  20.974667  43.257500  21.236668  43.367500   \n",
       "2018-01-05  21.105333  41.670879  21.105333  43.750000  21.149332  43.842499   \n",
       "2018-01-08  22.427334  41.516106  22.427334  43.587502  22.468000  43.902500   \n",
       "\n",
       "Attributes        Low                  Open                  Volume  \\\n",
       "Symbols          TSLA       AAPL       TSLA       AAPL         TSLA   \n",
       "Date                                                                  \n",
       "2018-01-02  20.733334  42.314999  20.799999  42.540001   65283000.0   \n",
       "2018-01-03  21.036667  42.990002  21.400000  43.132500   67822500.0   \n",
       "2018-01-04  20.378668  43.020000  20.858000  43.134998  149194500.0   \n",
       "2018-01-05  20.799999  43.262501  21.108000  43.360001   68868000.0   \n",
       "2018-01-08  21.033333  43.482498  21.066668  43.587502  147891000.0   \n",
       "\n",
       "Attributes               \n",
       "Symbols            AAPL  \n",
       "Date                     \n",
       "2018-01-02  102223600.0  \n",
       "2018-01-03  118071600.0  \n",
       "2018-01-04   89738400.0  \n",
       "2018-01-05   94640000.0  \n",
       "2018-01-08   82271200.0  "
      ]
     },
     "execution_count": 2,
     "metadata": {},
     "output_type": "execute_result"
    }
   ],
   "source": [
    "# Read Data\n",
    "test = data.DataReader(['TSLA', 'AAPL'], 'yahoo', start='2018/01/01', end='2019/12/31')\n",
    "test.head()"
   ]
  },
  {
   "cell_type": "code",
   "execution_count": 3,
   "metadata": {},
   "outputs": [
    {
     "data": {
      "text/html": [
       "<div>\n",
       "<style scoped>\n",
       "    .dataframe tbody tr th:only-of-type {\n",
       "        vertical-align: middle;\n",
       "    }\n",
       "\n",
       "    .dataframe tbody tr th {\n",
       "        vertical-align: top;\n",
       "    }\n",
       "\n",
       "    .dataframe thead th {\n",
       "        text-align: right;\n",
       "    }\n",
       "</style>\n",
       "<table border=\"1\" class=\"dataframe\">\n",
       "  <thead>\n",
       "    <tr style=\"text-align: right;\">\n",
       "      <th>Symbols</th>\n",
       "      <th>TSLA</th>\n",
       "      <th>AAPL</th>\n",
       "    </tr>\n",
       "    <tr>\n",
       "      <th>Date</th>\n",
       "      <th></th>\n",
       "      <th></th>\n",
       "    </tr>\n",
       "  </thead>\n",
       "  <tbody>\n",
       "    <tr>\n",
       "      <th>2018-01-02</th>\n",
       "      <td>21.368668</td>\n",
       "      <td>41.018429</td>\n",
       "    </tr>\n",
       "    <tr>\n",
       "      <th>2018-01-03</th>\n",
       "      <td>21.150000</td>\n",
       "      <td>41.011288</td>\n",
       "    </tr>\n",
       "    <tr>\n",
       "      <th>2018-01-04</th>\n",
       "      <td>20.974667</td>\n",
       "      <td>41.201771</td>\n",
       "    </tr>\n",
       "    <tr>\n",
       "      <th>2018-01-05</th>\n",
       "      <td>21.105333</td>\n",
       "      <td>41.670879</td>\n",
       "    </tr>\n",
       "    <tr>\n",
       "      <th>2018-01-08</th>\n",
       "      <td>22.427334</td>\n",
       "      <td>41.516106</td>\n",
       "    </tr>\n",
       "  </tbody>\n",
       "</table>\n",
       "</div>"
      ],
      "text/plain": [
       "Symbols          TSLA       AAPL\n",
       "Date                            \n",
       "2018-01-02  21.368668  41.018429\n",
       "2018-01-03  21.150000  41.011288\n",
       "2018-01-04  20.974667  41.201771\n",
       "2018-01-05  21.105333  41.670879\n",
       "2018-01-08  22.427334  41.516106"
      ]
     },
     "execution_count": 3,
     "metadata": {},
     "output_type": "execute_result"
    }
   ],
   "source": [
    "# Closing price\n",
    "test = test['Adj Close']\n",
    "test.head()"
   ]
  },
  {
   "cell_type": "code",
   "execution_count": 4,
   "metadata": {},
   "outputs": [
    {
     "data": {
      "text/plain": [
       "Date\n",
       "2018-01-02         NaN\n",
       "2018-01-03   -0.010286\n",
       "2018-01-04   -0.008325\n",
       "2018-01-05    0.006210\n",
       "2018-01-08    0.060755\n",
       "Name: TSLA, dtype: float64"
      ]
     },
     "execution_count": 4,
     "metadata": {},
     "output_type": "execute_result"
    }
   ],
   "source": [
    "# Log of percentage change\n",
    "tesla = test['TSLA'].pct_change().apply(lambda x: np.log(1+x))\n",
    "tesla.head()"
   ]
  },
  {
   "cell_type": "markdown",
   "metadata": {},
   "source": [
    "The variance in prices of stocks of Tesla are an important indicator of how volatile this investment will be (how returns can fluctuate).\n",
    "\n",
    "It can be calculated for each company by using built in .var() function. Under the hood, the formula implemented by this function is given by:\n",
    "\n",
    "s2=∑i=1N(xi–x¯)2/N−1"
   ]
  },
  {
   "cell_type": "code",
   "execution_count": 5,
   "metadata": {},
   "outputs": [
    {
     "data": {
      "text/plain": [
       "0.0011483733956322896"
      ]
     },
     "execution_count": 5,
     "metadata": {},
     "output_type": "execute_result"
    }
   ],
   "source": [
    "# Variance\n",
    "var_tesla = tesla.var()\n",
    "var_tesla"
   ]
  },
  {
   "cell_type": "code",
   "execution_count": 6,
   "metadata": {},
   "outputs": [
    {
     "data": {
      "text/plain": [
       "Date\n",
       "2018-01-02         NaN\n",
       "2018-01-03   -0.000174\n",
       "2018-01-04    0.004634\n",
       "2018-01-05    0.011321\n",
       "2018-01-08   -0.003721\n",
       "Name: AAPL, dtype: float64"
      ]
     },
     "execution_count": 6,
     "metadata": {},
     "output_type": "execute_result"
    }
   ],
   "source": [
    "aapl = test['AAPL'].pct_change().apply(lambda x: np.log(1+x))\n",
    "aapl.head()"
   ]
  },
  {
   "cell_type": "code",
   "execution_count": 7,
   "metadata": {},
   "outputs": [
    {
     "data": {
      "text/plain": [
       "0.000302777102866675"
      ]
     },
     "execution_count": 7,
     "metadata": {},
     "output_type": "execute_result"
    }
   ],
   "source": [
    "# Variance\n",
    "var_aapl =aapl.var()\n",
    "var_aapl\n",
    "#> .00045697258417022536"
   ]
  },
  {
   "cell_type": "markdown",
   "metadata": {},
   "source": [
    "Volatility is measured as the standard deviation of a company’s stock.\n",
    "\n",
    "If you carefully look at the formula for standard deviation, you will understand that it is just the square root of variance.\n",
    "\n",
    "But volatility for the annual standard deviation. What we get from square root of variance is the daily standard deviation. To convert it to annual standard deviation we multiply the variance by 250.\n",
    "\n",
    "250 is used because there are 250 trading days in a year."
   ]
  },
  {
   "cell_type": "code",
   "execution_count": 8,
   "metadata": {},
   "outputs": [
    {
     "data": {
      "text/plain": [
       "(0.53581092645454, 0.2751259270164641)"
      ]
     },
     "execution_count": 8,
     "metadata": {},
     "output_type": "execute_result"
    }
   ],
   "source": [
    "# Volatility\n",
    "tesla_vol = np.sqrt(var_tesla * 250)\n",
    "aapl_vol = np.sqrt(var_aapl * 250)\n",
    "tesla_vol, aapl_vol\n",
    "#> .5358109337568289  .33799873674698305"
   ]
  },
  {
   "cell_type": "code",
   "execution_count": 9,
   "metadata": {},
   "outputs": [
    {
     "data": {
      "text/plain": [
       "<AxesSubplot:xlabel='Symbols'>"
      ]
     },
     "execution_count": 9,
     "metadata": {},
     "output_type": "execute_result"
    },
    {
     "data": {
      "image/png": "[encoded data removed]",
      "text/plain": [
       "<Figure size 432x288 with 1 Axes>"
      ]
     },
     "metadata": {
      "needs_background": "light"
     },
     "output_type": "display_data"
    }
   ],
   "source": [
    "# Volatility of both stocks\n",
    "test.pct_change().apply(lambda x: np.log(1+x)).std().apply(lambda x: x*np.sqrt(250)).plot(kind='bar')"
   ]
  },
  {
   "cell_type": "markdown",
   "metadata": {},
   "source": [
    "Covariance measures the directional relationship between the returns on two assets.\n",
    "\n",
    "A positive covariance means that returns of the two assets move together while a negative covariance means they move inversely. Risk and volatility can be reduced in a portfolio by pairing assets that have a negative covariance.\n",
    "\n",
    "We can calculate the covariance of Tesla and Facebook by using the .cov() function."
   ]
  },
  {
   "cell_type": "code",
   "execution_count": 10,
   "metadata": {},
   "outputs": [
    {
     "data": {
      "text/html": [
       "<div>\n",
       "<style scoped>\n",
       "    .dataframe tbody tr th:only-of-type {\n",
       "        vertical-align: middle;\n",
       "    }\n",
       "\n",
       "    .dataframe tbody tr th {\n",
       "        vertical-align: top;\n",
       "    }\n",
       "\n",
       "    .dataframe thead th {\n",
       "        text-align: right;\n",
       "    }\n",
       "</style>\n",
       "<table border=\"1\" class=\"dataframe\">\n",
       "  <thead>\n",
       "    <tr style=\"text-align: right;\">\n",
       "      <th>Symbols</th>\n",
       "      <th>TSLA</th>\n",
       "      <th>AAPL</th>\n",
       "    </tr>\n",
       "    <tr>\n",
       "      <th>Date</th>\n",
       "      <th></th>\n",
       "      <th></th>\n",
       "    </tr>\n",
       "  </thead>\n",
       "  <tbody>\n",
       "    <tr>\n",
       "      <th>2018-01-02</th>\n",
       "      <td>NaN</td>\n",
       "      <td>NaN</td>\n",
       "    </tr>\n",
       "    <tr>\n",
       "      <th>2018-01-03</th>\n",
       "      <td>-0.010286</td>\n",
       "      <td>-0.000174</td>\n",
       "    </tr>\n",
       "    <tr>\n",
       "      <th>2018-01-04</th>\n",
       "      <td>-0.008325</td>\n",
       "      <td>0.004634</td>\n",
       "    </tr>\n",
       "    <tr>\n",
       "      <th>2018-01-05</th>\n",
       "      <td>0.006210</td>\n",
       "      <td>0.011321</td>\n",
       "    </tr>\n",
       "    <tr>\n",
       "      <th>2018-01-08</th>\n",
       "      <td>0.060755</td>\n",
       "      <td>-0.003721</td>\n",
       "    </tr>\n",
       "  </tbody>\n",
       "</table>\n",
       "</div>"
      ],
      "text/plain": [
       "Symbols         TSLA      AAPL\n",
       "Date                          \n",
       "2018-01-02       NaN       NaN\n",
       "2018-01-03 -0.010286 -0.000174\n",
       "2018-01-04 -0.008325  0.004634\n",
       "2018-01-05  0.006210  0.011321\n",
       "2018-01-08  0.060755 -0.003721"
      ]
     },
     "execution_count": 10,
     "metadata": {},
     "output_type": "execute_result"
    }
   ],
   "source": [
    "# Log of Percentage change\n",
    "test1 = test.pct_change().apply(lambda x: np.log(1+x))\n",
    "test1.head()"
   ]
  },
  {
   "cell_type": "code",
   "execution_count": 11,
   "metadata": {},
   "outputs": [
    {
     "data": {
      "text/plain": [
       "0.00019007741993037569"
      ]
     },
     "execution_count": 11,
     "metadata": {},
     "output_type": "execute_result"
    }
   ],
   "source": [
    "# Covariance\n",
    "test1['TSLA'].cov(test1['AAPL'])\n",
    "#> .00018261623156030972"
   ]
  },
  {
   "cell_type": "markdown",
   "metadata": {},
   "source": [
    "You can notice that there is small positive covariance between Tesla and AAPL."
   ]
  },
  {
   "cell_type": "markdown",
   "metadata": {},
   "source": [
    "Correlation, in the finance and investment industries, is a statistic that measures the degree to which two securities move in relation to each other. Correlations are used in advanced portfolio management, computed as the correlation coefficient, which has a value that must fall between -1.0 and +1.0.\n",
    "\n",
    "You can think of correlation as a scaled version of covariance, where the values are restricted to lie between -1 and +1.\n",
    "\n",
    "A correlation of -1 means negative relation, i.e, if correlation between Asset A and Asset B is -1, if Asset A increases, Asset B decreases.\n",
    "\n",
    "A correlation of +1 means positive relation, i.e, if correlation between Asset A and Asset B is 1, if Asset A increases, Asset B increases.\n",
    "\n",
    "A correlation of 0 means no relation, i.e, if correlation between Asset A and Asset B is 0, they dont have any effect on each other.\n",
    "\n",
    "This is calculated using the .corr() function."
   ]
  },
  {
   "cell_type": "code",
   "execution_count": 12,
   "metadata": {},
   "outputs": [
    {
     "data": {
      "text/plain": [
       "0.3223498351517815"
      ]
     },
     "execution_count": 12,
     "metadata": {},
     "output_type": "execute_result"
    }
   ],
   "source": [
    "test1['TSLA'].corr(test1['AAPL'])\n",
    "#> .2520883272466132"
   ]
  },
  {
   "cell_type": "markdown",
   "metadata": {},
   "source": [
    "Expected returns of an asset are simply the mean of percentage change in its stock prices. So, the value of expected return we obtain here are daily expected returns.\n",
    "\n",
    "For an yearly expected return value, you will need to resample the data year-wise, as you will see further.\n",
    "\n",
    "For expected returns, you need to define weights for the assets choosen.\n",
    "\n",
    "In simpler terms, this means you need to decide what percentage of your total money to you want to hold in each company’s stock.\n",
    "\n",
    "Usually this decision is done by using the optimization techniques we will discuss later but for now we will consider random weights for Tesla and Facebook.\n",
    "\n",
    "First, let’s compute the log of percentage change."
   ]
  },
  {
   "cell_type": "code",
   "execution_count": 13,
   "metadata": {},
   "outputs": [
    {
     "data": {
      "text/html": [
       "<div>\n",
       "<style scoped>\n",
       "    .dataframe tbody tr th:only-of-type {\n",
       "        vertical-align: middle;\n",
       "    }\n",
       "\n",
       "    .dataframe tbody tr th {\n",
       "        vertical-align: top;\n",
       "    }\n",
       "\n",
       "    .dataframe thead th {\n",
       "        text-align: right;\n",
       "    }\n",
       "</style>\n",
       "<table border=\"1\" class=\"dataframe\">\n",
       "  <thead>\n",
       "    <tr style=\"text-align: right;\">\n",
       "      <th>Symbols</th>\n",
       "      <th>TSLA</th>\n",
       "      <th>AAPL</th>\n",
       "    </tr>\n",
       "    <tr>\n",
       "      <th>Date</th>\n",
       "      <th></th>\n",
       "      <th></th>\n",
       "    </tr>\n",
       "  </thead>\n",
       "  <tbody>\n",
       "    <tr>\n",
       "      <th>2018-01-02</th>\n",
       "      <td>NaN</td>\n",
       "      <td>NaN</td>\n",
       "    </tr>\n",
       "    <tr>\n",
       "      <th>2018-01-03</th>\n",
       "      <td>-0.010286</td>\n",
       "      <td>-0.000174</td>\n",
       "    </tr>\n",
       "    <tr>\n",
       "      <th>2018-01-04</th>\n",
       "      <td>-0.008325</td>\n",
       "      <td>0.004634</td>\n",
       "    </tr>\n",
       "    <tr>\n",
       "      <th>2018-01-05</th>\n",
       "      <td>0.006210</td>\n",
       "      <td>0.011321</td>\n",
       "    </tr>\n",
       "    <tr>\n",
       "      <th>2018-01-08</th>\n",
       "      <td>0.060755</td>\n",
       "      <td>-0.003721</td>\n",
       "    </tr>\n",
       "  </tbody>\n",
       "</table>\n",
       "</div>"
      ],
      "text/plain": [
       "Symbols         TSLA      AAPL\n",
       "Date                          \n",
       "2018-01-02       NaN       NaN\n",
       "2018-01-03 -0.010286 -0.000174\n",
       "2018-01-04 -0.008325  0.004634\n",
       "2018-01-05  0.006210  0.011321\n",
       "2018-01-08  0.060755 -0.003721"
      ]
     },
     "execution_count": 13,
     "metadata": {},
     "output_type": "execute_result"
    }
   ],
   "source": [
    "test2 = test.pct_change().apply(lambda x: np.log(1+x))\n",
    "test2.head()"
   ]
  },
  {
   "cell_type": "markdown",
   "metadata": {},
   "source": [
    "Weights\n",
    "Let’s define an array of random weights for the purpose of calculation. These weights will represent the percentage allocation of investments between these two stocks. They must add up to 1.\n",
    "\n",
    "So, the problem of portfolio optimization is nothing but to find the optimal values of weights that maximizes expected returns while minimizing the risk (standard deviation)."
   ]
  },
  {
   "cell_type": "code",
   "execution_count": 14,
   "metadata": {},
   "outputs": [
    {
     "data": {
      "text/plain": [
       "Symbols\n",
       "TSLA    0.000530\n",
       "AAPL    0.001122\n",
       "dtype: float64"
      ]
     },
     "execution_count": 14,
     "metadata": {},
     "output_type": "execute_result"
    }
   ],
   "source": [
    "# Define weights for allocation\n",
    "w = [0.2, 0.8]\n",
    "e_r_ind = test2.mean()\n",
    "e_r_ind"
   ]
  },
  {
   "cell_type": "markdown",
   "metadata": {},
   "source": [
    "The total expected return for a portfolio is given by:\n",
    "\n",
    "E(Rp)=w1E(R1)+w2E(R2)+…..wnE(Rn)\n",
    "Thus, e_r, or total expected return can be calculated as:"
   ]
  }
 ],
 "metadata": {
  "kernelspec": {
   "display_name": "Python 3.7.11 ('blockchain_dev')",
   "language": "python",
   "name": "python3"
  },
  "language_info": {
   "codemirror_mode": {
    "name": "ipython",
    "version": 3
   },
   "file_extension": ".py",
   "mimetype": "text/x-python",
   "name": "python",
   "nbconvert_exporter": "python",
   "pygments_lexer": "ipython3",
   "version": "3.7.11"
  },
  "orig_nbformat": 4,
  "vscode": {
   "interpreter": {
    "hash": "967a4224f964ba27812ba145d3e8daf55de242a4a83b38e28c02365eed51f7d0"
   }
  }
 },
 "nbformat": 4,
 "nbformat_minor": 2
}
